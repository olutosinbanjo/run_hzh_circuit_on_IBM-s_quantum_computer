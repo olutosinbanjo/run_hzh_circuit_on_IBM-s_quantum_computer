{
 "cells": [
  {
   "cell_type": "markdown",
   "id": "6b6f5b9a-15a4-4d93-891a-3b863c730f87",
   "metadata": {},
   "source": [
    "## Run a quantum circuit on IBM's quantum computer"
   ]
  },
  {
   "cell_type": "code",
   "execution_count": 1,
   "id": "f9184173-a326-4636-9b3f-2f48b85bd7c4",
   "metadata": {},
   "outputs": [],
   "source": [
    "from qiskit_ibm_runtime import QiskitRuntimeService\n",
    "from qiskit_ibm_runtime import SamplerV2 as Sampler\n",
    "from qiskit import QuantumCircuit, QuantumRegister, ClassicalRegister, qasm3\n",
    "from qiskit.compiler import transpile\n",
    "from qiskit.visualization import plot_histogram"
   ]
  },
  {
   "cell_type": "markdown",
   "id": "801c2a1a-f655-499b-b2e6-0e7bbd2e35fe",
   "metadata": {},
   "source": [
    "## Initiate IBM Quantum service"
   ]
  },
  {
   "cell_type": "code",
   "execution_count": 2,
   "id": "7f9d5e1b-67b1-4744-964a-d72ad55550bb",
   "metadata": {
    "scrolled": true
   },
   "outputs": [],
   "source": [
    "service = QiskitRuntimeService(filename='./account.json', name='oluwatosin-gmail')"
   ]
  },
  {
   "cell_type": "markdown",
   "id": "fef7d008-feed-41f7-bc3a-299d806cffb2",
   "metadata": {},
   "source": [
    "## List all active backends and queued jobs"
   ]
  },
  {
   "cell_type": "code",
   "execution_count": 3,
   "id": "e0c39d0d-8dfd-4405-80fa-831a49469fc5",
   "metadata": {},
   "outputs": [
    {
     "name": "stdout",
     "output_type": "stream",
     "text": [
      "List of backends:\n",
      "\n",
      "ibm_sherbrooke\n",
      "Qubits:  127\n",
      "Queued jobs: 17\n",
      "\n",
      "ibm_kyiv\n",
      "Qubits:  127\n",
      "Queued jobs: 14\n",
      "\n",
      "ibm_brisbane\n",
      "Qubits:  127\n",
      "Queued jobs: 14\n",
      "\n"
     ]
    }
   ],
   "source": [
    "print(\"List of backends:\\n\")\n",
    "for backend in service.backends():\n",
    "    properties = backend.properties()\n",
    "    print(properties.backend_name)\n",
    "    if (properties):\n",
    "        print(f\"Qubits:  {len(properties.qubits)}\")\n",
    "    else:\n",
    "        print(f\"Simulator\")\n",
    "    print(f\"Queued jobs: {backend.status().pending_jobs}\\n\")"
   ]
  },
  {
   "cell_type": "markdown",
   "id": "58084ea7-a186-4730-b3b1-d8e962eeeeb9",
   "metadata": {},
   "source": [
    "## Number of qubits"
   ]
  },
  {
   "cell_type": "code",
   "execution_count": 4,
   "id": "32293ceb-bc07-4755-a3a8-5ecff49422ad",
   "metadata": {},
   "outputs": [],
   "source": [
    "n = 1"
   ]
  },
  {
   "cell_type": "markdown",
   "id": "a18206f7-84fc-48cd-ac25-57d268c0f569",
   "metadata": {},
   "source": [
    "## Quantum and classical register"
   ]
  },
  {
   "cell_type": "code",
   "execution_count": 5,
   "id": "e57e784b-41dc-4991-a361-00d4a549cb4a",
   "metadata": {},
   "outputs": [],
   "source": [
    "qreg = QuantumRegister(n)\n",
    "creg = ClassicalRegister(n)"
   ]
  },
  {
   "cell_type": "markdown",
   "id": "eb14d16c-6a77-4c64-b99d-26cef7fab8c9",
   "metadata": {},
   "source": [
    "## Instantiate a circuit object"
   ]
  },
  {
   "cell_type": "code",
   "execution_count": 6,
   "id": "599e538a-1ca4-4a88-bb94-281bc71aa97e",
   "metadata": {},
   "outputs": [],
   "source": [
    "circ = QuantumCircuit(qreg, creg)"
   ]
  },
  {
   "cell_type": "markdown",
   "id": "bc56b8d8-f368-4249-8ee3-40274c88119f",
   "metadata": {},
   "source": [
    "## Build quantum circuit"
   ]
  },
  {
   "cell_type": "code",
   "execution_count": 7,
   "id": "2b23107e-a6de-4002-917c-95892d9ccd35",
   "metadata": {},
   "outputs": [
    {
     "data": {
      "text/plain": [
       "<qiskit.circuit.instructionset.InstructionSet at 0x1542b502b880>"
      ]
     },
     "execution_count": 7,
     "metadata": {},
     "output_type": "execute_result"
    }
   ],
   "source": [
    "circ.h(0)\n",
    "circ.z(0)\n",
    "circ.h(0)"
   ]
  },
  {
   "cell_type": "markdown",
   "id": "a901479a-f3d8-4734-97cd-524653e0112d",
   "metadata": {},
   "source": [
    "## Save quantum circuit for future reference"
   ]
  },
  {
   "cell_type": "code",
   "execution_count": 8,
   "id": "a6f0ac88-6d4b-4e52-9f6f-2b3abaa1ce7f",
   "metadata": {},
   "outputs": [],
   "source": [
    "circ_string = qasm3.dumps(circ)\n",
    "file_name = f\"circ.qasm\"\n",
    "with open(f\"files/qasm_files/{file_name}\", \"w\") as file:\n",
    "        file.write(circ_string)"
   ]
  },
  {
   "cell_type": "code",
   "execution_count": 9,
   "id": "d0e21d15-fff1-4207-8d49-d2a017b2500a",
   "metadata": {},
   "outputs": [],
   "source": [
    "circ.draw('mpl').savefig(\"files/images/circ.jpg\", dpi=500)"
   ]
  },
  {
   "cell_type": "markdown",
   "id": "8a150e18-5d70-4494-9b5d-cdc71c8477ea",
   "metadata": {},
   "source": [
    "## Measure quantum circuit"
   ]
  },
  {
   "cell_type": "code",
   "execution_count": 10,
   "id": "af223c9c-08b8-400b-98e3-cae4558616e2",
   "metadata": {
    "scrolled": true
   },
   "outputs": [
    {
     "data": {
      "text/plain": [
       "<qiskit.circuit.instructionset.InstructionSet at 0x1542b17f0ac0>"
      ]
     },
     "execution_count": 10,
     "metadata": {},
     "output_type": "execute_result"
    }
   ],
   "source": [
    "circ.measure(qreg, creg)"
   ]
  },
  {
   "cell_type": "markdown",
   "id": "96676748-7587-44eb-a965-8d76cfe9fcce",
   "metadata": {},
   "source": [
    "## Select backend with least jobs"
   ]
  },
  {
   "cell_type": "code",
   "execution_count": 11,
   "id": "194c3a76-7bed-4efb-81cb-d29436b66820",
   "metadata": {},
   "outputs": [],
   "source": [
    "backend = service.backend(\"ibm_kyiv\")"
   ]
  },
  {
   "cell_type": "markdown",
   "id": "3a996b4a-69dd-4cfd-a102-2038c7fb539a",
   "metadata": {},
   "source": [
    "## Transpile circuit with backend with least jobs"
   ]
  },
  {
   "cell_type": "code",
   "execution_count": 12,
   "id": "d16a339d-0070-453b-b1ed-16c1cc17d920",
   "metadata": {},
   "outputs": [],
   "source": [
    "circ_trans = transpile(circ, backend, optimization_level=3)"
   ]
  },
  {
   "cell_type": "markdown",
   "id": "950b60c3-01e7-4f41-863b-b2bba2545619",
   "metadata": {},
   "source": [
    "## Save transpiled quantum circuit for future reference"
   ]
  },
  {
   "cell_type": "code",
   "execution_count": 13,
   "id": "97a2dcdf-6d8b-4c9f-8f6a-6684477fba27",
   "metadata": {},
   "outputs": [],
   "source": [
    "circ_trans_string = qasm3.dumps(circ_trans)\n",
    "file_name = f\"circ_trans.qasm\"\n",
    "with open(f\"files/qasm_files/{file_name}\", \"w\") as file:\n",
    "        file.write(circ_trans_string)"
   ]
  },
  {
   "cell_type": "code",
   "execution_count": 14,
   "id": "2b902afc-c370-4027-9a87-7bad0631c9ab",
   "metadata": {},
   "outputs": [],
   "source": [
    "circ_trans.draw('mpl').savefig(\"files/images/circ_trans.jpg\", dpi=500)"
   ]
  },
  {
   "cell_type": "markdown",
   "id": "1daf0bf1-cd70-4127-b0e8-1a0e845f8fe8",
   "metadata": {},
   "source": [
    "## Run transpiled quantum circuit"
   ]
  },
  {
   "cell_type": "code",
   "execution_count": 16,
   "id": "c3ac171a-0015-495c-823e-1f835f9bee9f",
   "metadata": {},
   "outputs": [],
   "source": [
    "sampler = Sampler(mode=backend)"
   ]
  },
  {
   "cell_type": "code",
   "execution_count": 17,
   "id": "dd8cb426-f4f6-4717-b2ee-0b80ec614cf9",
   "metadata": {},
   "outputs": [],
   "source": [
    "job = sampler.run([circ_trans], shots=50)"
   ]
  },
  {
   "cell_type": "code",
   "execution_count": 18,
   "id": "b64a7931-4957-4136-adab-8a2368b630e3",
   "metadata": {
    "scrolled": true
   },
   "outputs": [
    {
     "name": "stdout",
     "output_type": "stream",
     "text": [
      ">>> Job ID:     cy7286rnrmz00085prb0\n",
      ">>> Job Status: QUEUED\n"
     ]
    }
   ],
   "source": [
    "print(f\">>> Job ID:     {job.job_id()}\")\n",
    "print(f\">>> Job Status: {job.status()}\")"
   ]
  },
  {
   "cell_type": "markdown",
   "id": "e574b18b-c356-4ff9-badc-0a2b0aa5e785",
   "metadata": {},
   "source": [
    "## Retrieve Results"
   ]
  },
  {
   "cell_type": "code",
   "execution_count": 21,
   "id": "38e634c7-bf01-4cf1-88d5-f1763e5922d1",
   "metadata": {},
   "outputs": [
    {
     "data": {
      "text/plain": [
       "SamplerPubResult(data=DataBin(c0=BitArray(<shape=(), num_shots=50, num_bits=1>)), metadata={'circuit_metadata': {}})"
      ]
     },
     "execution_count": 21,
     "metadata": {},
     "output_type": "execute_result"
    }
   ],
   "source": [
    "job.result()[0]"
   ]
  },
  {
   "cell_type": "code",
   "execution_count": 22,
   "id": "82334a85-12cc-4f60-a36b-ea8cf5e24d6b",
   "metadata": {},
   "outputs": [
    {
     "data": {
      "text/plain": [
       "{'1': 50}"
      ]
     },
     "execution_count": 22,
     "metadata": {},
     "output_type": "execute_result"
    }
   ],
   "source": [
    "job.result()[0].data['c0'].get_counts()"
   ]
  },
  {
   "cell_type": "code",
   "execution_count": 23,
   "id": "7d1a05d6-1428-47e2-af33-6626bcb7494a",
   "metadata": {},
   "outputs": [
    {
     "data": {
      "image/png": "[encoded data removed]",
      "text/plain": [
       "<Figure size 640x480 with 1 Axes>"
      ]
     },
     "execution_count": 23,
     "metadata": {},
     "output_type": "execute_result"
    }
   ],
   "source": [
    "plot_histogram(job.result()[0].data['c0'].get_counts())"
   ]
  },
  {
   "cell_type": "code",
   "execution_count": null,
   "id": "662ee3ca-25f5-4519-9b07-27f392108f42",
   "metadata": {},
   "outputs": [],
   "source": []
  }
 ],
 "metadata": {
  "kernelspec": {
   "display_name": "Python 3 (ipykernel)",
   "language": "python",
   "name": "python3"
  },
  "language_info": {
   "codemirror_mode": {
    "name": "ipython",
    "version": 3
   },
   "file_extension": ".py",
   "mimetype": "text/x-python",
   "name": "python",
   "nbconvert_exporter": "python",
   "pygments_lexer": "ipython3",
   "version": "3.10.8"
  }
 },
 "nbformat": 4,
 "nbformat_minor": 5
}
